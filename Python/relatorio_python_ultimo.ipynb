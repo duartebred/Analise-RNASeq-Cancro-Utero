{
 "cells": [
  {
   "cell_type": "markdown",
   "metadata": {},
   "source": [
    "# Carcinoma do endométrio do corpo uterino\n",
    "Autores: Duarte Velho(pg53841), Joana Lopes(pg53498), Ricardo Oliveira(pg53501)\n",
    "\n",
    "<p align=\"justify\">\n",
    "Este trabalho foi desenvolvido no âmbito da UC Extração de Conhecimentos de Dados Biológicos (2023/24), do Mestrado em Bioinformática da Escola de Engenharia da Universidade do Minho, e tem como objetivo a análise de um conjunto de dados de expressão genética relacionados com o Carcinoma Endometrial do Corpo Uterino utilizando python e os seus diversos packages.\n",
    "</p>\n",
    "\n",
    "## 1ª parte\n",
    "<p align=\"justify\">\n",
    "A primeira fase deste trabalho será constituída pelas seguintes etapas: - explicação dos dados, sua origem e relevância; - tarefas de preparação e de pré-processamento dos dados; - sumarização dos dados (estatística descritiva, exploração com recurso a gráficos); - análise estatística univariada e análise de expressão diferencial e de enriquecimento.\n",
    "</p>\n",
    "\n",
    "### Instalação e importação de packages\n",
    "<p align=\"justify\">\n",
    "Nesta secção são destacados todos os packages utilizados no trabalho, que facilitam a aquisição e análise de dados ao longo do documento, tornando mais eficiente a obtenção e compreensão das informações relevantes.\n",
    "</p>"
   ]
  },
  {
   "cell_type": "code",
   "execution_count": 1,
   "metadata": {},
   "outputs": [],
   "source": [
    "import pandas as pd\n",
    "import re\n",
    "import matplotlib as plt"
   ]
  },
  {
   "cell_type": "markdown",
   "metadata": {},
   "source": [
    "### Introdução\n",
    "\n",
    "#### Enquadramento\n",
    "\n",
    "<p align=\"justify\">\n",
    "Nos dias de hoje, o cancro é uma das principais causas de morte a nível mundial, sendo que, segundo a Organização Mundial da Saúde (OMS), em 2020, foram diagnosticados cerca de 19,3 milhões de novos casos de cancro, que resultaram na morte, de aproximadamente 10 milhões de pessoas [1].\n",
    "O preocupante aumento da incidência do cancro ao longo das últimas décadas, levou ao surgimento de iniciativas, tal como a PanCancer Atlas, que visam encontrar respostas para as grandes e abrangentes questões sobre o cancro, através da análise de tumores caracterizados no conjunto de dados resultantes do projeto de The Cancer Genome Atlas (TCGA).\n",
    "O TCGA é um programa de genómica de referência na área do cancro que, em colaboração com o Instituto Nacional do Cancro (NCI) e o Instituto Nacional de Pesquisa do Genoma Humano (NHGRI) dos Estados Unidos, caracterizou mais de 20 mil cancros primários abrangendo 33 tipos de cancro.\n",
    "Os tipos de cancro selecionados para estudo cumprem requisitos tais como ter um mau prognóstico, ter um impacto geral na saúde pública, disponibilidade de amostras com a qualidade e quantidade desejadas, entre outros.\n",
    "(National Cancer Institute, 2022)\n",
    "\n",
    "O cancro endometrial do corpo uterino, um dos cancros incluídos no TCGA, é o sétimo tumor maligno mais frequente no mundo e o quarto mais comum na mulher sendo a doença ginecológica maligna dominante, tendo provocado em 2011 mais de 8 mil mortes [2, 3].\n",
    "De todos os cancros do corpo uterino mais de 83% correspondem a carcinomas do endométrio, enquanto apenas 10% dos diagnósticos são classificados como sarcomas [2].\n",
    "Este tipo de cancro tem ganho maior atenção por parte da comunidade científica, uma vez que se verificou um aumento da sua incidência com a agravante de que a taxa de sobrevivência aos 5 anos é consideravelmente menor, em comparação com o ano de 1975, passando de 88% para cerca de 84%, em 2006, indicando um aumento na mortalidade [3].\n",
    "A taxa de sobrevivência está fortemente correlacionada com o estádio da doença aquando do diagnóstico, sendo que para pacientes no estádio inicial se considera curável atingindo cerca de 96% de sobrevivência.\n",
    "No entanto, para fases mais avançadas e de alto grau, é considerado letal reduzindo drasticamente a taxa de sobrevivência para 17%.\n",
    "</p>\n",
    "\n",
    "#### Objetivo\n",
    "\n",
    "<p align=\"justify\">\n",
    "Com base na problemática apresentada, este trabalho tem como objetivo analisar o perfil transcriptómico de células endometeriais do corpo uterino de pacientes diagnosticados com cancro para determinadas condições descritas nos metadados, de modo a realizar a análise da expressão diferencial com o intuito de compreender qual o efeito do fator no perfil transcriptómico das células e como esse perfil se traduz na gravidade da doença observada.\n",
    "Os dados utilizados neste trabalho estão disponíveis no [GDC DataPortal](https://shorturl.at/fmpJ5).\n",
    "</p>\n",
    "\n",
    "### Extração dos dados de transcriptómica e respetivos metadados da base de dados\n",
    "\n",
    "#### Obtenção dos dados\n",
    "\n",
    "<p align=\"justify\">\n",
    "Com o objetivo de analisar os dados de transcriptómica referente ao carcinoma endometrial do corpo uterino, procedemos à extração da informação que se encontra presente no website cBioPortal, onde se encontram disponibilizados, de forma gratuita, uma grande diversidade de alterações genómicas de vários tipos de cancro, incluindo o cancro selecionado para estudo.\n",
    "Como no trabalho anterior já procedemos ao download dos dados de expressão genética e dos seus respetivos metadados, apenas se realizou a leitura dos respetivos dados utilizando o package pandas.\n",
    "</p>"
   ]
  },
  {
   "cell_type": "code",
   "execution_count": 2,
   "metadata": {},
   "outputs": [],
   "source": [
    "# atenção demora a correr (no meu pc demorou 6min a ler os ficheiros)\n",
    "gene_exp = pd.read_excel(io=\"../Data/expressao_genetica.xlsx\", index_col=0)\n",
    "genes_meta = pd.read_excel(io=\"../Data/genes_metadados.xlsx\", index_col=0)\n",
    "amostras_meta = pd.read_excel(io=\"../Data/amostras_metadados.xlsx\", index_col=0)"
   ]
  },
  {
   "cell_type": "code",
   "execution_count": 3,
   "metadata": {},
   "outputs": [
    {
     "name": "stdout",
     "output_type": "stream",
     "text": [
      "Classe dos dados de expressão:<class 'pandas.core.frame.DataFrame'>\n",
      "Classe dos dados de expressão:<class 'pandas.core.frame.DataFrame'>\n",
      "Classe dos dados de expressão:<class 'pandas.core.frame.DataFrame'>\n",
      "\n",
      "O dataframe da expressão genética tem 60660 linhas e 589 colunas\n",
      "O dataframe dos genes possui 60660 linhas e 10 colunas\n",
      "O dataframe das amostras tem 589 linhas e 78 colunas\n",
      "\n",
      "Nomes das 5 primeiras colunas do dataframe de expressão genética: ['TCGA-FI-A3PX-01A-11R-A22K-07' 'TCGA-BG-A221-01A-21R-A157-07'\n",
      " 'TCGA-EY-A1GK-01A-11R-A13S-07' 'TCGA-BG-A2AE-01A-11R-A16F-07'\n",
      " 'TCGA-AX-A1CE-01A-11R-A137-07']\n",
      "Nomes das 5 primeiras colunas do dataframe dos genes: ['source' 'type' 'score' 'phase' 'gene_id']\n",
      "Nomes das 5 primeiras colunas do dataframe das amostras: ['barcode' 'patient' 'sample' 'shortLetterCode' 'definition']\n"
     ]
    }
   ],
   "source": [
    "print(f\"Classe dos dados de expressão:{type(gene_exp)}\")\n",
    "print(f\"Classe dos dados de expressão:{type(genes_meta)}\")\n",
    "print(f\"Classe dos dados de expressão:{type(amostras_meta)}\")\n",
    "print(f\"\\nO dataframe da expressão genética tem {gene_exp.shape[0]} linhas e {gene_exp.shape[1]} colunas\")\n",
    "print(f\"O dataframe dos genes possui {genes_meta.shape[0]} linhas e {genes_meta.shape[1]} colunas\")\n",
    "print(f\"O dataframe das amostras tem {amostras_meta.shape[0]} linhas e {amostras_meta.shape[1]} colunas\")\n",
    "print(f\"\\nNomes das 5 primeiras colunas do dataframe de expressão genética: {gene_exp.columns.values[0:5]}\")\n",
    "print(f\"Nomes das 5 primeiras colunas do dataframe dos genes: {genes_meta.columns.values[0:5]}\")\n",
    "print(f\"Nomes das 5 primeiras colunas do dataframe das amostras: {amostras_meta.columns.values[0:5]}\")"
   ]
  },
  {
   "cell_type": "markdown",
   "metadata": {},
   "source": [
    "<p align=\"justify\">\n",
    "Através da análise exploratória inicial dos dados verificou-se que os dados de expressão genénitca, os dados dos genes e das amostras estão no formato de dataframe. O dataframe da expressão genética é constituído por 60660 linhas que correspondem ao genes para o qual se estudou a sua expressão genética e 589 colunas que representam as amostras análisadas no estudo. Para cada gene existem 10 colunas de metadados associados que acrescentam informação adicional sobre os genes, incluindo o gene_id (código Ensembl), tal como a sua fonte, o nome do gene, entre outros atributos, que podem ser acessados e explorados.\n",
    "Em relação às amostras, existem 78 colunas de metadados que possibilitam a caracterização das 589 amostras utilizadas neste estudo possibilitando a análise do impacto que as diversas características possuem no estádio ou na gravidade da doença com base nos dados da expressão genética de cada amostra.\n",
    "</p>\n",
    "\n",
    "<p align=\"justify\">\n",
    "Por diversas razões várias vezes os metadados associadas às amostras possuem elevada quantidade de valores omissos, o que pode levar a uma redução considerável das amsotras utilizadas em estudo caso a variável que se pretende análisar seja uma das que apresenta elevada percentagem de valores omissos. Para evitar tal acontecimento, primeiramente procedeu-se a uma filtragem do datafram \"amostras_meta\" com o inuito de apenas preservar as variavíes que possuem menos de 10% de valores omissos\n",
    "</p>"
   ]
  },
  {
   "cell_type": "code",
   "execution_count": 4,
   "metadata": {},
   "outputs": [
    {
     "name": "stdout",
     "output_type": "stream",
     "text": [
      "Dimensões do DataFrame filtrado: (589, 46)\n",
      "\n",
      "Nomes das colunas do dataframe das amostras filtrado: ['barcode' 'patient' 'sample' 'shortLetterCode' 'definition'\n",
      " 'sample_submitter_id' 'sample_type_id' 'tumor_descriptor' 'sample_id'\n",
      " 'sample_type' 'composition' 'days_to_collection' 'state' 'initial_weight'\n",
      " 'preservation_method' 'pathology_report_uuid' 'submitter_id'\n",
      " 'oct_embedded' 'specimen_type' 'is_ffpe' 'tissue_type' 'figo_stage'\n",
      " 'synchronous_malignancy' 'days_to_diagnosis' 'treatments'\n",
      " 'last_known_disease_status' 'tissue_or_organ_of_origin'\n",
      " 'days_to_last_follow_up' 'age_at_diagnosis' 'primary_diagnosis'\n",
      " 'prior_malignancy' 'year_of_diagnosis' 'prior_treatment' 'morphology'\n",
      " 'classification_of_tumor' 'diagnosis_id' 'icd_10_code'\n",
      " 'site_of_resection_or_biopsy' 'tumor_grade' 'progression_or_recurrence'\n",
      " 'alcohol_history' 'exposure_id' 'race' 'gender' 'ethnicity'\n",
      " 'vital_status' 'age_at_index' 'days_to_birth' 'year_of_birth'\n",
      " 'demographic_id' 'year_of_death' 'days_to_death' 'bcr_patient_barcode'\n",
      " 'primary_site' 'project_id' 'disease_type' 'name' 'releasable' 'released'\n",
      " 'paper_patient' 'paper_patient_type' 'paper_age' 'paper_X2009stagegroup'\n",
      " 'paper_histology' 'paper_tumor_grade' 'paper_histology_grade'\n",
      " 'paper_vital_status' 'paper_os_days' 'paper_disease_status_at_lfu'\n",
      " 'paper_recurred_progressed' 'paper_pfs_days' 'paper_BMI'\n",
      " 'paper_ethnicity' 'paper_race' 'paper_IntegrativeCluster'\n",
      " 'paper_msi_status_7_marker_call' 'paper_cna_cluster_k4'\n",
      " 'paper_mrna_expression_cluster']\n"
     ]
    }
   ],
   "source": [
    "# filtrar as colunas que são objetos\n",
    "data_types = amostras_meta.dtypes\n",
    "string_cols = data_types[data_types == 'object'].index\n",
    "amostras_meta_filtered = amostras_meta[string_cols]\n",
    "\n",
    "\n",
    "# Identificar colunas com mais de 60 contagens de \"not reported\" \n",
    "rm_not_reported = amostras_meta_filtered.apply(lambda x: x.str.lower().str.count(\"not reported\").sum() > 60)\n",
    "rm_not_reported = rm_not_reported.index[rm_not_reported].tolist()\n",
    "\n",
    "\n",
    "# Identificar colunas com mais de 60 contagens de \"unkown\" \n",
    "rm_unkown = amostras_meta_filtered.apply(lambda x: x.str.lower().str.count(\"unknown\").sum() > 60)\n",
    "rm_unkown = rm_unkown.index[rm_unkown].tolist()\n",
    "\n",
    "\n",
    "# Identificar colunas com mais de 60 valores NA\n",
    "rm_nas = amostras_meta.isna().sum() > 60\n",
    "rm_nas = rm_nas.index[rm_nas].tolist()\n",
    "\n",
    "\n",
    "# Remover colunas identificadas\n",
    "amostras_meta_reduzido = amostras_meta.drop(columns=rm_not_reported + rm_unkown + rm_nas)\n",
    "\n",
    "\n",
    "# Obter dimensões do DataFrame reduzido\n",
    "dimensao = amostras_meta_reduzido.shape\n",
    "print(f\"Dimensões do DataFrame filtrado: {dimensao}\")\n",
    "print(f\"\\nNomes das colunas do dataframe das amostras filtrado: {amostras_meta.columns.values}\")\n"
   ]
  },
  {
   "cell_type": "markdown",
   "metadata": {},
   "source": [
    "<p align=\"justify\">\n",
    "Com esta filtragem o número de colunas passou de 78 para 46 garantindo assim que as características que possam ser utilizadas para as análises posteriores abrangem a maioria das amostras garantindo maior confiabilidade na análise realizada.\n",
    "</p>\n",
    "\n",
    "### Análise Descritiva e Exploratória\n",
    "<p align=\"justify\">\n",
    "Para o nosso estudo, de entre as colunas de metadados reduzida, selecionou-se 4 variáveis de caraterísticas distintas, nomeadamente as colunas \"vital_status\", \"primary_diagnosis\", \"age_at_index\" e \"figo_stage\" para se proceder a uma análise descritiva e exploratória das amostras.\n",
    "</p>"
   ]
  },
  {
   "cell_type": "code",
   "execution_count": 5,
   "metadata": {
    "scrolled": true
   },
   "outputs": [
    {
     "name": "stderr",
     "output_type": "stream",
     "text": [
      "C:\\Users\\Utilizador\\AppData\\Local\\Temp\\ipykernel_5104\\342081174.py:4: SettingWithCopyWarning: \n",
      "A value is trying to be set on a copy of a slice from a DataFrame.\n",
      "Try using .loc[row_indexer,col_indexer] = value instead\n",
      "\n",
      "See the caveats in the documentation: https://pandas.pydata.org/pandas-docs/stable/user_guide/indexing.html#returning-a-view-versus-a-copy\n",
      "  meta_amostras['figo_stage'] = meta_amostras['figo_stage'].replace(r'.*\\b(Stage [VI]+).*', r'\\1', regex=True)\n"
     ]
    }
   ],
   "source": [
    "meta_amostras = amostras_meta_reduzido[[\"vital_status\", \"primary_diagnosis\", \"age_at_index\",\"figo_stage\"]]\n",
    "\n",
    "# substituir os valores de figo state apenas pelas iniciais\n",
    "meta_amostras['figo_stage'] = meta_amostras['figo_stage'].replace(r'.*\\b(Stage [VI]+).*', r'\\1', regex=True)"
   ]
  },
  {
   "cell_type": "code",
   "execution_count": 6,
   "metadata": {},
   "outputs": [
    {
     "data": {
      "text/plain": [
       "row.names(amostras_metadados)\n",
       "TCGA-FI-A3PX-01A-11R-A22K-07    Stage III\n",
       "TCGA-BG-A221-01A-21R-A157-07      Stage I\n",
       "TCGA-EY-A1GK-01A-11R-A13S-07      Stage I\n",
       "TCGA-BG-A2AE-01A-11R-A16F-07      Stage I\n",
       "TCGA-AX-A1CE-01A-11R-A137-07      Stage I\n",
       "                                  ...    \n",
       "TCGA-AJ-A3NF-01A-11R-A22K-07    Stage III\n",
       "TCGA-BK-A0C9-01A-11R-A00V-07      Stage I\n",
       "TCGA-AJ-A5DW-01A-11R-A27V-07      Stage I\n",
       "TCGA-AP-A05J-01A-11R-A00V-07     Stage II\n",
       "TCGA-D1-A103-01A-11R-A10J-07      Stage I\n",
       "Name: figo_stage, Length: 589, dtype: object"
      ]
     },
     "execution_count": 6,
     "metadata": {},
     "output_type": "execute_result"
    }
   ],
   "source": [
    "meta_amostras[\"figo_stage\"]"
   ]
  },
  {
   "cell_type": "markdown",
   "metadata": {},
   "source": [
    "### Análise de expressão diferencial "
   ]
  },
  {
   "cell_type": "code",
   "execution_count": 7,
   "metadata": {},
   "outputs": [
    {
     "name": "stdout",
     "output_type": "stream",
     "text": [
      "(60660, 423)\n"
     ]
    }
   ],
   "source": [
    "# Filtrar amostras onde primary_diagnosis não é NaN\n",
    "amostras_filtradas = meta_amostras.dropna(subset=['primary_diagnosis'])\n",
    "\n",
    "# Filtrar amostras com primary_diagnosis igual a \"Endometrioid adenocarcinoma, NOS\"\n",
    "amostras_filtradas = amostras_filtradas[amostras_filtradas['primary_diagnosis'] == \"Endometrioid adenocarcinoma, NOS\"]\n",
    "\n",
    "# Selecionar dados de expressão gênica correspondentes às amostras filtradas\n",
    "dados_EA = gene_exp.loc[:, amostras_filtradas.index]\n",
    "\n",
    "# Dimensão dos dados_EA\n",
    "dimensao_dados_EA = dados_EA.shape\n",
    "\n",
    "print(dimensao_dados_EA)"
   ]
  },
  {
   "cell_type": "code",
   "execution_count": 8,
   "metadata": {
    "scrolled": false
   },
   "outputs": [
    {
     "name": "stdout",
     "output_type": "stream",
     "text": [
      "0\n"
     ]
    }
   ],
   "source": [
    "# Contar o número de valores NaN na coluna 'vital_status' de amostras_filtradas\n",
    "num_na_vital_status = amostras_filtradas['figo_stage'].isna().sum()\n",
    "\n",
    "print(num_na_vital_status)"
   ]
  },
  {
   "cell_type": "code",
   "execution_count": 9,
   "metadata": {},
   "outputs": [],
   "source": [
    "#pip install scanpy scipy"
   ]
  },
  {
   "cell_type": "code",
   "execution_count": 9,
   "metadata": {},
   "outputs": [],
   "source": [
    "import scanpy as sc"
   ]
  },
  {
   "cell_type": "code",
   "execution_count": 10,
   "metadata": {},
   "outputs": [],
   "source": [
    "#transposta de dados_EA para atribuição ao objeto adata\n",
    "adata = sc.AnnData(dados_EA.T)"
   ]
  },
  {
   "cell_type": "code",
   "execution_count": 11,
   "metadata": {},
   "outputs": [],
   "source": [
    "# Filtrar células e genes de baixa qualidade\n",
    "sc.pp.filter_cells(adata, min_genes=20)\n",
    "sc.pp.filter_genes(adata, min_cells=4)\n",
    "\n",
    "# Normalizar os dados\n",
    "sc.pp.normalize_total(adata, target_sum=1e4)\n",
    "sc.pp.log1p(adata)"
   ]
  },
  {
   "cell_type": "code",
   "execution_count": 12,
   "metadata": {},
   "outputs": [],
   "source": [
    "adata.obs['condition'] = amostras_filtradas['figo_stage'].values"
   ]
  },
  {
   "cell_type": "code",
   "execution_count": 13,
   "metadata": {},
   "outputs": [],
   "source": [
    "sc.pp.highly_variable_genes(adata, min_mean=0.0125, max_mean=3, min_disp=0.5)\n",
    "adata = adata[:, adata.var.highly_variable]"
   ]
  },
  {
   "cell_type": "code",
   "execution_count": 14,
   "metadata": {
    "scrolled": true
   },
   "outputs": [
    {
     "name": "stderr",
     "output_type": "stream",
     "text": [
      "c:\\Users\\Utilizador\\AppData\\Local\\Programs\\Python\\Python311\\Lib\\site-packages\\scanpy\\preprocessing\\_scale.py:299: UserWarning: Received a view of an AnnData. Making a copy.\n",
      "  view_to_actual(adata)\n"
     ]
    }
   ],
   "source": [
    "sc.pp.scale(adata, max_value=10)"
   ]
  },
  {
   "cell_type": "code",
   "execution_count": 15,
   "metadata": {},
   "outputs": [],
   "source": [
    "import numpy as np"
   ]
  },
  {
   "cell_type": "code",
   "execution_count": 16,
   "metadata": {},
   "outputs": [],
   "source": [
    "# Substituir valores negativos por zero (ou outro valor positivo pequeno), isto porque ao fazer scale dos dados podemos obter valores negativos\n",
    "adata.X = np.where(adata.X < 0, 0.1, adata.X)"
   ]
  },
  {
   "cell_type": "code",
   "execution_count": 17,
   "metadata": {},
   "outputs": [],
   "source": [
    "# Definir a condição a ser analisada\n",
    "adata.obs['condition'] = adata.obs['condition'].astype('category')\n",
    "\n",
    "# Realizar a análise de expressão diferencial\n",
    "sc.tl.rank_genes_groups(adata, groupby='condition', method='wilcoxon', groups=['Stage IV'], reference='Stage I')\n",
    "\n",
    "# Obter os resultados\n",
    "result = adata.uns['rank_genes_groups']\n",
    "groups = result['names'].dtype.names\n",
    "\n",
    "# Converter os resultados para DataFrame\n",
    "de_genes = pd.DataFrame({group: result['names'][group] for group in groups})\n",
    "de_pvals = pd.DataFrame({group: result['pvals'][group] for group in groups})\n",
    "de_logfoldchanges = pd.DataFrame({group: result['logfoldchanges'][group] for group in groups})\n",
    "\n",
    "# Supondo que você está interessado na comparação 'alive' vs 'dead'\n",
    "group_of_interest = 'Stage IV'"
   ]
  },
  {
   "cell_type": "code",
   "execution_count": 18,
   "metadata": {},
   "outputs": [
    {
     "data": {
      "image/png": "[encoded data removed]",
      "text/plain": [
       "<Figure size 1400x600 with 1 Axes>"
      ]
     },
     "metadata": {},
     "output_type": "display_data"
    }
   ],
   "source": [
    "import matplotlib.pyplot as plt\n",
    "\n",
    "# Converter os resultados para DataFrame\n",
    "de_genes = pd.DataFrame(result['names'])\n",
    "de_logfoldchanges = pd.DataFrame(result['logfoldchanges'])\n",
    "de_pvals = pd.DataFrame(result['pvals_adj'])  # Usar p-values ajustados se disponíveis\n",
    "\n",
    "# Selecionar o grupo de interesse\n",
    "group_of_interest = 'Stage IV'\n",
    "\n",
    "# Preparar os dados para o plot\n",
    "log2FoldChange = de_logfoldchanges[group_of_interest].values\n",
    "gene_names = de_genes[group_of_interest].values\n",
    "\n",
    "# Criar o DataFrame consolidado\n",
    "resultados = pd.DataFrame({\n",
    "    'log2FoldChange': log2FoldChange,\n",
    "    'gene_name': gene_names\n",
    "})\n",
    "\n",
    "# Ordenar os resultados pela alteração na expressão em ordem decrescente\n",
    "resultados_ord = resultados.sort_values(by='log2FoldChange', ascending=False)\n",
    "\n",
    "# Preparar os dados para o plot\n",
    "ranked_genes = resultados_ord['log2FoldChange'].values\n",
    "gene_names = resultados_ord['gene_name'].values\n",
    "\n",
    "# Plotar\n",
    "plt.figure(figsize=(14, 6))\n",
    "plt.plot(ranked_genes, 'bo')\n",
    "plt.xlabel('Genes Ranked by Log2 Fold Change')\n",
    "plt.ylabel('Log2 Fold Change')\n",
    "plt.title('Ranked Plot of Genes by Log2 Fold Change')\n",
    "\n",
    "# Marcar os genes mais expressos e menos expressos\n",
    "for i, gene in enumerate(gene_names[:10]):\n",
    "    plt.text(i, ranked_genes[i], gene, fontsize=8, rotation=45)\n",
    "for i, gene in enumerate(gene_names[-10:]):\n",
    "    plt.text(len(ranked_genes) - 10 + i, ranked_genes[-10 + i], gene, fontsize=8, rotation=45)\n",
    "\n",
    "plt.show()"
   ]
  },
  {
   "cell_type": "code",
   "execution_count": 19,
   "metadata": {
    "scrolled": true
   },
   "outputs": [
    {
     "data": {
      "text/plain": [
       "106       ENSG00000171246.6\n",
       "1321      ENSG00000254656.3\n",
       "230      ENSG00000108309.14\n",
       "33       ENSG00000132821.12\n",
       "67        ENSG00000140323.6\n",
       "                ...        \n",
       "10017    ENSG00000125434.11\n",
       "9983      ENSG00000114638.8\n",
       "10027     ENSG00000163501.7\n",
       "10080    ENSG00000164488.12\n",
       "10044     ENSG00000260676.5\n",
       "Name: gene_name, Length: 10081, dtype: object"
      ]
     },
     "execution_count": 19,
     "metadata": {},
     "output_type": "execute_result"
    }
   ],
   "source": [
    "resultados_ord['gene_name'] #imprimir os nomes dos genes ordenados de acordo com o log fold change em ordem decrescente\""
   ]
  },
  {
   "cell_type": "markdown",
   "metadata": {},
   "source": [
    "<p align=\"justify\">\n",
    "Através da análise dos gráficos, podemos ver que o gene **ENSG00000171246.6** é o que se encontra mais expresso para a condição de estadio IV do tumor (tendo como comparativo o estadio I). Este gene pode ser acedido no NCBI gene através do seu identificador, onde é descrito como codificador de uma proteína, **NPTX1** (neuronal pentraxin 1). Após uma breve pesquisa na literatura existente, estudos apontam para a envolvência de NPTX1 em processos de indução de apoptose em diferentes tipos celulares. Um estudo conduzido em 2014, cujo objetivo foi entender como os contraceptivos progestativos afetam as células do endométrio, revelou que em mulheres que receberam contracetivos progestativos de longa duração se observou um aumento na expressão de NPTX1 no endométrio e que, o aumento da expressão de NPTX1 estava associado à indução de apoptose (morte celular programada) em células endoteliais do endométrio(Guzeloglu-Kayisli et al., 2014). Ou seja, os achados relacionados à expressão aumentada de NPTX1 e sua indução de apoptose nas células endoteliais podem fornecer insights importantes sobre os processos biológicos subjacentes a distúrbios uterinos. Relacionando com o nosso dataset, estes achados podem de facto fazer sentido, uma vez que o aumento da apoptose das células endoteliais e a instabilidade vascular podem facilitar a invasão tumoral e a disseminação metastática do câncer de endométrio. \n",
    "</p>"
   ]
  },
  {
   "cell_type": "markdown",
   "metadata": {},
   "source": [
    "<p align=\"justify\">\n",
    "Por outro lado, através do comando **resultados_ord['gene_name']** vemos que o gene que se encontra menos expresso para a condição de estadio IV do tumor (tendo como comparativo o estadio I) é o gene **ENSG00000260676.5**. Também conhecido como \"Uterine Endometrial Carcinoma-Associated Transcript\", este gene, **LINC01541**, é uma sequência de RNA longo que não codifica proteínas e está localizado em um região intergênica do genoma. Um estudo cujo objetivo foi investigar o papel do gene LINC01541 na endometriose, revelou que o silenciamento de LINC01541 (redução da expressão) aumentou significativamente as capacidades migratórias e invasivas das células para tecidos circundantes, ou seja, as células tornaram-se mais propensas a se moverem e invadirem outros tecidos (Mai et al., 2019). Desta forma, no contexto do nosso dataset, os resultados obtidos na expressão diferencial parecem fazer sentido, isto é, uma vez que estamos a observar a expressão génica para a condição de estadio IV do tumor, que representa a forma mais agressiva do tumor onde há extensão do tumor para estruturas adjacentes, seria de esperar que este gene se encontra-se subexpresso e é, efetivamente, o que verficamos. \n",
    "</p>"
   ]
  },
  {
   "cell_type": "markdown",
   "metadata": {},
   "source": [
    "<p align=\"justify\">\n",
    "### Redução da dimensionalidade\n",
    "As técnicas Principal Component Analysis (PCA) e t-Distributed Stochastic Neighbor Embedding (t-SNE) são duas técnicas de redução de dimensionalidade amplamente utilizadas na análise de dados. Ambas têm como objetivo reduzir a complexidade dos dados, eliminando a redundância (muito caraterísitca em datasets desta natureza) permitindo a visualização e a compreensão de padrões ou estruturas subjacentes. Muitas vezes, é útil usar ambos em conjunto: PCA para uma visão geral dos dados e t-SNE para uma visualização mais detalhada e interpretação de padrões locais.\n",
    "</p>"
   ]
  },
  {
   "cell_type": "markdown",
   "metadata": {},
   "source": [
    "#### PCA"
   ]
  },
  {
   "cell_type": "code",
   "execution_count": 20,
   "metadata": {},
   "outputs": [],
   "source": [
    "dados_EA_transpostos = dados_EA.transpose()"
   ]
  },
  {
   "cell_type": "code",
   "execution_count": 21,
   "metadata": {},
   "outputs": [],
   "source": [
    "import pandas as pd\n",
    "%matplotlib inline\n",
    "import matplotlib.pyplot as plt\n",
    "from sklearn import preprocessing\n",
    "from sklearn.decomposition import PCA"
   ]
  },
  {
   "cell_type": "code",
   "execution_count": 22,
   "metadata": {},
   "outputs": [],
   "source": [
    "array_data = preprocessing.scale(dados_EA_transpostos)\n",
    "data_scale =  pd.DataFrame(array_data, index =dados_EA_transpostos.index , columns = dados_EA_transpostos.columns)"
   ]
  },
  {
   "cell_type": "code",
   "execution_count": 23,
   "metadata": {},
   "outputs": [
    {
     "name": "stdout",
     "output_type": "stream",
     "text": [
      "Var. explicada: [0.14719413 0.10970642]\n",
      "Soma: 25.6900543663709 %\n"
     ]
    }
   ],
   "source": [
    "pca_cach = PCA(n_components=2)\n",
    "pca_cach.fit(data_scale)\n",
    "X_r = pca_cach.transform(data_scale) # transformacao dos dados no novo espaço utilizando apenas 5 CP\n",
    "print('Var. explicada: %s'% str(pca_cach.explained_variance_ratio_))\n",
    "print('Soma:', sum(pca_cach.explained_variance_ratio_) * 100, \"%\")"
   ]
  },
  {
   "cell_type": "code",
   "execution_count": 24,
   "metadata": {
    "scrolled": false
   },
   "outputs": [
    {
     "data": {
      "image/png": "[encoded data removed]",
      "text/plain": [
       "<Figure size 640x480 with 1 Axes>"
      ]
     },
     "metadata": {},
     "output_type": "display_data"
    }
   ],
   "source": [
    "meta_values = amostras_filtradas[\"figo_stage\"]\n",
    "plt.figure()\n",
    "for c, name in zip(\"rg\", [\"Stage I\", \"Stage IV\"]):\n",
    "    plt.scatter(X_r[meta_values == name, 0], X_r[meta_values == name, 1], c=c, label=name)\n",
    "plt.legend()\n",
    "plt.title('PCA')\n",
    "plt.show()"
   ]
  },
  {
   "cell_type": "code",
   "execution_count": 25,
   "metadata": {},
   "outputs": [
    {
     "data": {
      "image/png": "[encoded data removed]",
      "text/plain": [
       "<Figure size 640x480 with 1 Axes>"
      ]
     },
     "metadata": {},
     "output_type": "display_data"
    }
   ],
   "source": [
    "meta_values2 = amostras_filtradas[\"vital_status\"]\n",
    "plt.figure()\n",
    "for c, name in zip(\"rg\", [\"Alive\", \"Dead\"]):\n",
    "    plt.scatter(X_r[meta_values2 == name, 0], X_r[meta_values2 == name, 1], c=c, label=name)\n",
    "plt.legend()\n",
    "plt.title('PCA')\n",
    "plt.show()"
   ]
  },
  {
   "cell_type": "markdown",
   "metadata": {},
   "source": [
    "<p align=\"justify\">\n",
    "Como podemos ver através do primeiro e segundo gráficos, os dados são mostrados em função do \"figo_stage\" e em função do \"vital_status\" respetivamente, e, vemos que estes não conseguem ser explicados por nenhuma das condições de metadados, uma vez que não há uma divisão clara entre os grupos. No entanto, devemos ressalvar que os os PC1 e PC2 apenas explicam 25.69% da variabilidade dos nossos dados, logo, não é possível retirar uma conclusão segura destes gráficos.\n",
    "</p>"
   ]
  },
  {
   "cell_type": "markdown",
   "metadata": {},
   "source": [
    "#### t-SNE"
   ]
  },
  {
   "cell_type": "code",
   "execution_count": 26,
   "metadata": {},
   "outputs": [],
   "source": [
    "from sklearn.manifold import TSNE\n",
    "tsne = TSNE(n_components=2, n_iter=1000)\n",
    "points = tsne.fit_transform(data_scale)"
   ]
  },
  {
   "cell_type": "code",
   "execution_count": 27,
   "metadata": {},
   "outputs": [
    {
     "data": {
      "image/png": "[encoded data removed]",
      "text/plain": [
       "<Figure size 640x480 with 1 Axes>"
      ]
     },
     "metadata": {},
     "output_type": "display_data"
    }
   ],
   "source": [
    "plt.figure()\n",
    "for c, name in zip(\"rg\", [\"Stage I\", \"Stage IV\"]):\n",
    "    plt.scatter(points[meta_values == name, 0], points[meta_values == name, 1], c=c, label=name)\n",
    "plt.title(\"tSNE\")\n",
    "plt.legend(loc='best', shadow=False)\n",
    "plt.show()"
   ]
  },
  {
   "cell_type": "code",
   "execution_count": 28,
   "metadata": {},
   "outputs": [
    {
     "data": {
      "image/png": "[encoded data removed]",
      "text/plain": [
       "<Figure size 640x480 with 1 Axes>"
      ]
     },
     "metadata": {},
     "output_type": "display_data"
    }
   ],
   "source": [
    "plt.figure()\n",
    "for c, name in zip(\"rg\", [\"Alive\", \"Dead\"]):\n",
    "    plt.scatter(points[meta_values2 == name, 0], points[meta_values2 == name, 1], c=c, label=name)\n",
    "plt.title(\"tSNE\")\n",
    "plt.legend(loc='best', shadow=False)\n",
    "plt.show()"
   ]
  },
  {
   "cell_type": "markdown",
   "metadata": {},
   "source": [
    "<p align=\"justify\">\n",
    "Da mesma maneira, através da técnica de t-SNE, não conseguimos explicar a variabilidade dos dados com base nas duas condições mencionadas acima.\n",
    "</p>"
   ]
  },
  {
   "cell_type": "markdown",
   "metadata": {},
   "source": [
    "### Clustering\n",
    "<p align=\"justify\">\n",
    "O clustering é uma técnica de aprendizagem não supervisionada que identifica padrões e a estrutura nos dados, agrupando-os em conjuntos homogéneos. Utiliza medidas de distância ou similaridade para agrupar pontos de dados próximos, procurando maximizar a coesão intra-cluster e a separação inter-cluster. Esses grupos podem revelar insights sobre a estrutura subjacente dos dados.\n",
    "</p>\n",
    "\n",
    "<p align=\"justify\">\n",
    "No nosso relatório, foram abordados dois algoritmos de clustering: K-means, que é um algoritmo de clustering que divide um conjunto de dados em K clusters, minimizando a soma dos quadrados das distâncias entre os pontos e os centroides; e clustering hierárquico, que constrói uma árvore de clusters, onde cada nó representa um cluster.\n",
    "</p>"
   ]
  },
  {
   "cell_type": "markdown",
   "metadata": {},
   "source": [
    "#### Hierárquico"
   ]
  },
  {
   "cell_type": "markdown",
   "metadata": {},
   "source": [
    "<p align=\"justify\">\n",
    "Este tipo de clustering baseia-se na probabilidade de pertencer a um grupo e segue uma abordagem aglomerativa (recorrendo à estratégia bottom-up), começando pelas folhas até à raiz da árvore. A análise do cluster hierárquico usa a distânca Euclidiana para calcular a proximidade entre os pontos num espaço multidimensional, considerando todas as dimensões.\n",
    "</p>"
   ]
  },
  {
   "cell_type": "code",
   "execution_count": 29,
   "metadata": {},
   "outputs": [],
   "source": [
    "from sklearn.cluster import AgglomerativeClustering\n",
    "from scipy.cluster.hierarchy import dendrogram\n",
    "\n",
    "def plot_dendrogram(model, **kwargs):\n",
    "    # Create linkage matrix and then plot the dendrogram\n",
    "    counts = np.zeros(model.children_.shape[0])\n",
    "    n_samples = len(model.labels_)\n",
    "    for i, merge in enumerate(model.children_):\n",
    "        current_count = 0\n",
    "        for child_idx in merge:\n",
    "            if child_idx < n_samples:\n",
    "                current_count += 1  # leaf node\n",
    "            else:\n",
    "                current_count += counts[child_idx - n_samples]\n",
    "        counts[i] = current_count\n",
    "\n",
    "    linkage_matrix = np.column_stack([model.children_, model.distances_, counts]).astype(float)\n",
    "\n",
    "    # Plot the corresponding dendrogram\n",
    "    dendrogram(linkage_matrix, **kwargs)"
   ]
  },
  {
   "cell_type": "code",
   "execution_count": 30,
   "metadata": {},
   "outputs": [
    {
     "data": {
      "image/png": "[encoded data removed]",
      "text/plain": [
       "<Figure size 640x480 with 1 Axes>"
      ]
     },
     "metadata": {},
     "output_type": "display_data"
    }
   ],
   "source": [
    "X = data_scale\n",
    "\n",
    "# Inicialização do modelo de clustering hierárquico\n",
    "model = AgglomerativeClustering(distance_threshold=0, n_clusters=None)\n",
    "\n",
    "# Ajuste do modelo aos seus dados\n",
    "model.fit(X)\n",
    "\n",
    "# Plotagem do dendrograma\n",
    "plt.title(\"Hierarchical Clustering Dendrogram\")\n",
    "plot_dendrogram(model, truncate_mode=\"level\", p=3)\n",
    "plt.xlabel(\"Número de pontos no nó (ou índice do ponto se não houver parênteses)\")\n",
    "plt.show()"
   ]
  },
  {
   "cell_type": "markdown",
   "metadata": {},
   "source": [
    "#### K-Means"
   ]
  },
  {
   "cell_type": "markdown",
   "metadata": {},
   "source": [
    "<p align=\"justify\">\n",
    "Esta abordagem de clustering, agrupa os dados de forma a minimizar as distâncias entre os pontos e centróides dos clusters. Um método muito utilizado para auxiliar na determinação do número adequado de clusters é o “método do cotovelo”. Este método envolve a análise da variação da soma dos quadrados intra-cluster (WSS) em relação ao número de clusters.\n",
    "</p>"
   ]
  },
  {
   "cell_type": "code",
   "execution_count": 31,
   "metadata": {},
   "outputs": [
    {
     "name": "stdout",
     "output_type": "stream",
     "text": [
      "[22003756.80508829, 21365735.762092568, 19039092.15394213, 18710487.02557339, 18922231.499951772, 16885544.654392127, 16881637.821824193, 16880296.88018752, 16305647.517548561]\n"
     ]
    },
    {
     "data": {
      "image/png": "[encoded data removed]",
      "text/plain": [
       "<Figure size 640x480 with 1 Axes>"
      ]
     },
     "metadata": {},
     "output_type": "display_data"
    }
   ],
   "source": [
    "from sklearn.cluster import KMeans\n",
    "\n",
    "ofs = []\n",
    "\n",
    "for k in range(2, 11):\n",
    "    kmeans = KMeans(n_clusters=k, n_init = \"auto\")\n",
    "    kmeans.fit(data_scale)\n",
    "    ofs.append(kmeans.inertia_)\n",
    "\n",
    "print(ofs)\n",
    "plt.plot(range(2, 11), ofs, 'b-o')\n",
    "plt.xlabel('Num Clusters')\n",
    "plt.ylabel('WSS')\n",
    "plt.show()\n"
   ]
  },
  {
   "cell_type": "code",
   "execution_count": null,
   "metadata": {},
   "outputs": [],
   "source": [
    "#k=3"
   ]
  },
  {
   "cell_type": "markdown",
   "metadata": {},
   "source": [
    "<p align=\"justify\">\n",
    "Através da observação do gráfico verificou-se que o ponto no gráfico que se assemelha a um “cotovelo” é o ponto K=3. A partir do ponto k=3, a adição de mais clusters não resulta numa redução significativa da WSS.\n",
    "Partindo desse princípio, decidiu-se aplicar o algoritmo do K-means, de modo a criar uma tabela que permitisse analisar a distribuição das amostras nos clusters em relação ao metadado estudado (figo_stage).\n",
    "</p>"
   ]
  },
  {
   "cell_type": "code",
   "execution_count": 32,
   "metadata": {
    "scrolled": true
   },
   "outputs": [
    {
     "name": "stderr",
     "output_type": "stream",
     "text": [
      "c:\\Users\\Utilizador\\AppData\\Local\\Programs\\Python\\Python311\\Lib\\site-packages\\sklearn\\base.py:493: UserWarning: X does not have valid feature names, but KMeans was fitted with feature names\n",
      "  warnings.warn(\n"
     ]
    },
    {
     "data": {
      "text/html": [
       "<div>\n",
       "<style scoped>\n",
       "    .dataframe tbody tr th:only-of-type {\n",
       "        vertical-align: middle;\n",
       "    }\n",
       "\n",
       "    .dataframe tbody tr th {\n",
       "        vertical-align: top;\n",
       "    }\n",
       "\n",
       "    .dataframe thead th {\n",
       "        text-align: right;\n",
       "    }\n",
       "</style>\n",
       "<table border=\"1\" class=\"dataframe\">\n",
       "  <thead>\n",
       "    <tr style=\"text-align: right;\">\n",
       "      <th>col_0</th>\n",
       "      <th>0</th>\n",
       "      <th>1</th>\n",
       "      <th>2</th>\n",
       "    </tr>\n",
       "    <tr>\n",
       "      <th>figo_stage</th>\n",
       "      <th></th>\n",
       "      <th></th>\n",
       "      <th></th>\n",
       "    </tr>\n",
       "  </thead>\n",
       "  <tbody>\n",
       "    <tr>\n",
       "      <th>Stage I</th>\n",
       "      <td>49</td>\n",
       "      <td>227</td>\n",
       "      <td>23</td>\n",
       "    </tr>\n",
       "    <tr>\n",
       "      <th>Stage II</th>\n",
       "      <td>11</td>\n",
       "      <td>20</td>\n",
       "      <td>4</td>\n",
       "    </tr>\n",
       "    <tr>\n",
       "      <th>Stage III</th>\n",
       "      <td>15</td>\n",
       "      <td>54</td>\n",
       "      <td>7</td>\n",
       "    </tr>\n",
       "    <tr>\n",
       "      <th>Stage IV</th>\n",
       "      <td>2</td>\n",
       "      <td>11</td>\n",
       "      <td>0</td>\n",
       "    </tr>\n",
       "  </tbody>\n",
       "</table>\n",
       "</div>"
      ],
      "text/plain": [
       "col_0        0    1   2\n",
       "figo_stage             \n",
       "Stage I     49  227  23\n",
       "Stage II    11   20   4\n",
       "Stage III   15   54   7\n",
       "Stage IV     2   11   0"
      ]
     },
     "execution_count": 32,
     "metadata": {},
     "output_type": "execute_result"
    }
   ],
   "source": [
    "kmeans3 = KMeans(n_clusters=3, n_init = \"auto\")\n",
    "res_kmeans = kmeans3.fit(data_scale).predict(array_data)\n",
    "\n",
    "pd.crosstab(amostras_filtradas.loc[:,\"figo_stage\"], res_kmeans)"
   ]
  },
  {
   "cell_type": "markdown",
   "metadata": {},
   "source": [
    "<p align=\"justify\">\n",
    "Observando a tabela, verificou-se que existem clusters que têm uma separação diferenciada dos dados no que toca ao metadado analisado (figo_stage), cumprindo o principal propósito do k-means.No entanto, existem clusters cuja separação dos dados não é a clara.\n",
    "</p>"
   ]
  },
  {
   "cell_type": "markdown",
   "metadata": {},
   "source": [
    "# Machine Learning"
   ]
  },
  {
   "cell_type": "code",
   "execution_count": 60,
   "metadata": {},
   "outputs": [],
   "source": [
    "from sklearn.model_selection import train_test_split\n",
    "from sklearn.model_selection import StratifiedKFold\n",
    "from sklearn.neighbors import KNeighborsClassifier\n",
    "from sklearn.model_selection import GridSearchCV\n",
    "from sklearn.metrics import matthews_corrcoef\n",
    "from sklearn.metrics import confusion_matrix\n",
    "from sklearn.metrics import f1_score\n",
    "import seaborn as sns"
   ]
  },
  {
   "cell_type": "markdown",
   "metadata": {},
   "source": [
    "<p align=\"justify\">\n",
    "A análise supervisionada é uma abordagem de machine learning na qual os modelos são treinados com um conjunto de dados de entrada, juntamente com os rótulos associados a esses dados. Durante o treino, o modelo aprende a relação entre os dados de entrada e a sua classificação através de ajustes iterativos de modo a minimizar o erro entre as previsões e as classificações dos dados de treino. Após o treino, os modelos são utilizados para realizar a previsão da classificação de um novo conjunto de dados em que não se sabe a sua classificação.\n",
    "</p>\n",
    "\n",
    "<p align=\"justify\">\n",
    "Para dados de expressão, os modelos de machine learning podem ser utilizados para vários fins. Estes modelos são, por exemplo, utilizados para realizar a previsão de fenótipos com base no perfil de expressão genética sendo úteis para prever a resposta de um paciente a um determinado tratamento ou para prever a gravidade da doença e como esta poderá progredir com o tempo.\n",
    "</p>\n",
    "\n",
    "<p align=\"justify\">\n",
    "A primeira fase de machine learning consite na preparação dos dados de expressão genética para posteriomente serem utilizados para o treino do modelo e consequente teste do modelo.\n",
    "</p>"
   ]
  },
  {
   "cell_type": "code",
   "execution_count": 46,
   "metadata": {},
   "outputs": [
    {
     "data": {
      "text/html": [
       "<div>\n",
       "<style scoped>\n",
       "    .dataframe tbody tr th:only-of-type {\n",
       "        vertical-align: middle;\n",
       "    }\n",
       "\n",
       "    .dataframe tbody tr th {\n",
       "        vertical-align: top;\n",
       "    }\n",
       "\n",
       "    .dataframe thead th {\n",
       "        text-align: right;\n",
       "    }\n",
       "</style>\n",
       "<table border=\"1\" class=\"dataframe\">\n",
       "  <thead>\n",
       "    <tr style=\"text-align: right;\">\n",
       "      <th></th>\n",
       "      <th>vital_status</th>\n",
       "      <th>primary_diagnosis</th>\n",
       "      <th>age_at_index</th>\n",
       "      <th>figo_stage</th>\n",
       "    </tr>\n",
       "    <tr>\n",
       "      <th>row.names(amostras_metadados)</th>\n",
       "      <th></th>\n",
       "      <th></th>\n",
       "      <th></th>\n",
       "      <th></th>\n",
       "    </tr>\n",
       "  </thead>\n",
       "  <tbody>\n",
       "    <tr>\n",
       "      <th>TCGA-BG-A221-01A-21R-A157-07</th>\n",
       "      <td>Alive</td>\n",
       "      <td>Endometrioid adenocarcinoma, NOS</td>\n",
       "      <td>84.0</td>\n",
       "      <td>Stage I</td>\n",
       "    </tr>\n",
       "    <tr>\n",
       "      <th>TCGA-EY-A1GK-01A-11R-A13S-07</th>\n",
       "      <td>Alive</td>\n",
       "      <td>Endometrioid adenocarcinoma, NOS</td>\n",
       "      <td>74.0</td>\n",
       "      <td>Stage I</td>\n",
       "    </tr>\n",
       "    <tr>\n",
       "      <th>TCGA-AX-A1CE-01A-11R-A137-07</th>\n",
       "      <td>Alive</td>\n",
       "      <td>Endometrioid adenocarcinoma, NOS</td>\n",
       "      <td>60.0</td>\n",
       "      <td>Stage I</td>\n",
       "    </tr>\n",
       "    <tr>\n",
       "      <th>TCGA-D1-A1O8-01A-11R-A14D-07</th>\n",
       "      <td>Dead</td>\n",
       "      <td>Endometrioid adenocarcinoma, NOS</td>\n",
       "      <td>70.0</td>\n",
       "      <td>Stage III</td>\n",
       "    </tr>\n",
       "    <tr>\n",
       "      <th>TCGA-DI-A0WH-01A-12R-A12I-07</th>\n",
       "      <td>Alive</td>\n",
       "      <td>Endometrioid adenocarcinoma, NOS</td>\n",
       "      <td>64.0</td>\n",
       "      <td>Stage I</td>\n",
       "    </tr>\n",
       "    <tr>\n",
       "      <th>...</th>\n",
       "      <td>...</td>\n",
       "      <td>...</td>\n",
       "      <td>...</td>\n",
       "      <td>...</td>\n",
       "    </tr>\n",
       "    <tr>\n",
       "      <th>TCGA-EY-A549-01A-11R-A27V-07</th>\n",
       "      <td>Alive</td>\n",
       "      <td>Endometrioid adenocarcinoma, NOS</td>\n",
       "      <td>78.0</td>\n",
       "      <td>Stage I</td>\n",
       "    </tr>\n",
       "    <tr>\n",
       "      <th>TCGA-D1-A1O7-01A-11R-A14D-07</th>\n",
       "      <td>Alive</td>\n",
       "      <td>Endometrioid adenocarcinoma, NOS</td>\n",
       "      <td>60.0</td>\n",
       "      <td>Stage I</td>\n",
       "    </tr>\n",
       "    <tr>\n",
       "      <th>TCGA-BK-A0C9-01A-11R-A00V-07</th>\n",
       "      <td>Alive</td>\n",
       "      <td>Endometrioid adenocarcinoma, NOS</td>\n",
       "      <td>57.0</td>\n",
       "      <td>Stage I</td>\n",
       "    </tr>\n",
       "    <tr>\n",
       "      <th>TCGA-AJ-A5DW-01A-11R-A27V-07</th>\n",
       "      <td>Alive</td>\n",
       "      <td>Endometrioid adenocarcinoma, NOS</td>\n",
       "      <td>56.0</td>\n",
       "      <td>Stage I</td>\n",
       "    </tr>\n",
       "    <tr>\n",
       "      <th>TCGA-D1-A103-01A-11R-A10J-07</th>\n",
       "      <td>Alive</td>\n",
       "      <td>Endometrioid adenocarcinoma, NOS</td>\n",
       "      <td>87.0</td>\n",
       "      <td>Stage I</td>\n",
       "    </tr>\n",
       "  </tbody>\n",
       "</table>\n",
       "<p>423 rows × 4 columns</p>\n",
       "</div>"
      ],
      "text/plain": [
       "                              vital_status                 primary_diagnosis  \\\n",
       "row.names(amostras_metadados)                                                  \n",
       "TCGA-BG-A221-01A-21R-A157-07         Alive  Endometrioid adenocarcinoma, NOS   \n",
       "TCGA-EY-A1GK-01A-11R-A13S-07         Alive  Endometrioid adenocarcinoma, NOS   \n",
       "TCGA-AX-A1CE-01A-11R-A137-07         Alive  Endometrioid adenocarcinoma, NOS   \n",
       "TCGA-D1-A1O8-01A-11R-A14D-07          Dead  Endometrioid adenocarcinoma, NOS   \n",
       "TCGA-DI-A0WH-01A-12R-A12I-07         Alive  Endometrioid adenocarcinoma, NOS   \n",
       "...                                    ...                               ...   \n",
       "TCGA-EY-A549-01A-11R-A27V-07         Alive  Endometrioid adenocarcinoma, NOS   \n",
       "TCGA-D1-A1O7-01A-11R-A14D-07         Alive  Endometrioid adenocarcinoma, NOS   \n",
       "TCGA-BK-A0C9-01A-11R-A00V-07         Alive  Endometrioid adenocarcinoma, NOS   \n",
       "TCGA-AJ-A5DW-01A-11R-A27V-07         Alive  Endometrioid adenocarcinoma, NOS   \n",
       "TCGA-D1-A103-01A-11R-A10J-07         Alive  Endometrioid adenocarcinoma, NOS   \n",
       "\n",
       "                               age_at_index figo_stage  \n",
       "row.names(amostras_metadados)                           \n",
       "TCGA-BG-A221-01A-21R-A157-07           84.0    Stage I  \n",
       "TCGA-EY-A1GK-01A-11R-A13S-07           74.0    Stage I  \n",
       "TCGA-AX-A1CE-01A-11R-A137-07           60.0    Stage I  \n",
       "TCGA-D1-A1O8-01A-11R-A14D-07           70.0  Stage III  \n",
       "TCGA-DI-A0WH-01A-12R-A12I-07           64.0    Stage I  \n",
       "...                                     ...        ...  \n",
       "TCGA-EY-A549-01A-11R-A27V-07           78.0    Stage I  \n",
       "TCGA-D1-A1O7-01A-11R-A14D-07           60.0    Stage I  \n",
       "TCGA-BK-A0C9-01A-11R-A00V-07           57.0    Stage I  \n",
       "TCGA-AJ-A5DW-01A-11R-A27V-07           56.0    Stage I  \n",
       "TCGA-D1-A103-01A-11R-A10J-07           87.0    Stage I  \n",
       "\n",
       "[423 rows x 4 columns]"
      ]
     },
     "execution_count": 46,
     "metadata": {},
     "output_type": "execute_result"
    }
   ],
   "source": [
    "# Copy the original dataframe\n",
    "amostras_filtradas "
   ]
  },
  {
   "cell_type": "code",
   "execution_count": 47,
   "metadata": {},
   "outputs": [],
   "source": [
    "# X, i.e. the features or attributes\n",
    "characters=amostras_filtradas.to_numpy()\n",
    "# y, i.e. the class attribute where 0=Dead and 1=Alive\n",
    "type_label=amostras_filtradas['vital_status'].to_numpy()\n",
    "#common mapping\n",
    "X=characters #rest of data\n",
    "Y=type_label #0 or 1"
   ]
  },
  {
   "cell_type": "markdown",
   "metadata": {},
   "source": [
    "# Normalização"
   ]
  },
  {
   "cell_type": "markdown",
   "metadata": {},
   "source": [
    "<p align=\"justify\">\n",
    "A normalização é uma fase crucial ligada ao pré-processamento de dados para modelos de aprendizagem de máquina. Esta prática é fundamental para evitar questões relacionadas com a escala dos valores presentes no conjunto de dados. No contexto deste relatório, optou-se por uma técnica de normalização que ajusta os dados para que estes variem somente entre 0 e 1, definindo-se 0 como o valor mínimo, e 1 como o valor máximo.\n",
    "</p>"
   ]
  },
  {
   "cell_type": "code",
   "execution_count": 48,
   "metadata": {},
   "outputs": [],
   "source": [
    "min_max_escala = preprocessing.MinMaxScaler(feature_range=(0, 1))"
   ]
  },
  {
   "cell_type": "markdown",
   "metadata": {},
   "source": [
    "# Divisão do Dataset"
   ]
  },
  {
   "cell_type": "markdown",
   "metadata": {},
   "source": [
    "<p align=\"justify\">\n",
    "Após a filtragem dos genes diferencilamente expressos, procedeu-se à criação do dataset de treino e de teste sendo que se utilizou 70% dos dados para a criação do dataset de treino e cerca de 30% para o dataset de teste.\n",
    "</p>"
   ]
  },
  {
   "cell_type": "code",
   "execution_count": 51,
   "metadata": {},
   "outputs": [],
   "source": [
    "X_tr, X_te, y_tr, y_te = train_test_split(X, Y, stratify=Y,  test_size=0.3, random_state=42, shuffle=True)"
   ]
  },
  {
   "cell_type": "code",
   "execution_count": 52,
   "metadata": {},
   "outputs": [],
   "source": [
    "sss = StratifiedKFold(n_splits =10, random_state=42, shuffle=True) "
   ]
  },
  {
   "cell_type": "markdown",
   "metadata": {},
   "source": [
    "<p align=\"justify\">\n",
    "</p>\n",
    "Na seguinte etapa do trabalho realizaram-se previsões, tendo por base os dados existentes, opor outras palavras, previu-se a classificação  de uma nova amostra.\n",
    "Para tal, foram treinados e testados 2 modelos: Random Forest e k-Nearest Neighbors.\n",
    "</p>\n",
    "\n",
    "<p align=\"justify\">\n",
    "Para cada modelo, exploraram-se diversos hiperparâmetros. Recorreu-se a uma técnica de otimização de hiperparâmetros bastante utilizada em ML que se denomina Gridsearch. Nesta técnica, um conjunto de hiperparâmetros é especificado e todas as combinações possíveis desses hiperparâmetros são avaliadas usando validação cruzada. O objetivo foi encontrar a combinação de hiperparâmetros que resulte no melhor desempenho do modelo, sendo que se optou pela métrica do f1-score como referência.\n",
    "</p>\n",
    "\n",
    "<p align=\"justify\">\n",
    "Neste trabalho, teve-se sempre em consideração um processo de validação cruzada de 10 vezes, do conjunto de dados de treino, em que uma parte do conjunto de dados, denominada de conjunto de validação, foi usada para teste e as outras nove foram usadas para treino. Este processo foi iterado mais de dez vezes, usando, por sua vez, cada uma das dez partes como conjunto de validação. Como se verificou anteriormente, a distribuição dos dados por classe é de aproximadamente 55% 45%  para a classe 1 e 0 , respetivamente. Assim sendo, usou-se amostragem estratificada para garantir que há uma percentagem semelhante à existente do dataset original da classe positiva (y=1) e negativa (y=0), quer no dataset treino, como no test. \n",
    "</p>\n",
    "\n",
    "<p align=\"justify\">\n",
    "Para conhecer a avaliação dos modelos, teve-se por base as confusion matrix obtidas, mais concretamente os valores dos TP, TN, FP e FN. Estes valores são a base das diferentes métricas avaliadas como a precision, accuracy, recall, entre outros.\n",
    "</p>\n",
    "\n",
    "<p align=\"justify\">\n",
    "Em suma, a pipeline realizada daqui em diante para cada um dos modelos de ML e DL mencionados será a seguinte:\n",
    "\n",
    "1) Otimização dos hiperparâmetros por gridsearch (10 x cross-validation);\n",
    "\n",
    "2) Treinar o modelo com o melhor conjunto de hiperparâmetros (70 % dataset-treino);\n",
    "\n",
    "3) Testar o modelo treinado com o dataset test(30% dataset-test);\n",
    "\n",
    "4) Avaliar as métricas obtidas.\n",
    "</p>"
   ]
  },
  {
   "cell_type": "markdown",
   "metadata": {},
   "source": [
    "# k-Nearest Neighbors"
   ]
  },
  {
   "cell_type": "markdown",
   "metadata": {},
   "source": [
    "<p align=\"justify\">\n",
    "O algoritmo k-Nearest Neighbors (k-NN), é um algoritmo versátil usado tanto para classificação, quanto para regressão em aprendizagem de máquina. Este método opera sob a premissa de que pontos de dados com características semelhantes tendem a agrupar-se em espaços próximos. O parâmetro \"k\" no k-NN indica o número de vizinhos mais próximos a serem considerados na hora de predizer a classe de um ponto de dados novo.\n",
    "</p>\n",
    "\n",
    "<p align=\"justify\">\n",
    "Na modalidade de classificação, o k-NN identifica as k instâncias mais próximas do ponto novo, baseando-se numa medida de distância como a Euclidiana, e atribui-lhe a classe que mais aparece entre esses vizinhos. Por exemplo, se k for definido como 5, a classe mais comum entre os cinco vizinhos mais próximos determina a classe do ponto em questão.\n",
    "</p>\n",
    "\n",
    "<p align=\"justify\">\n",
    "Além da sua aplicação em classificação, o k-NN também pode ser empregado para regressão. Nesse caso, ao invés de escolher a classe mais frequente, o algoritmo calcula a média ou a mediana (dependendo da implementação) dos valores dos k vizinhos mais próximos para estimar um valor contínuo.\n",
    "</p>\n",
    "\n",
    "<p align=\"justify\">\n",
    "Um aspecto crucial para o bom desempenho do k-NN é a escolha do número k, que pode variar bastante dependendo do conjunto de dados. Um valor muito pequeno de k pode tornar o modelo sensível a ruídos, enquanto um valor muito grande pode incluir pontos que são, na verdade, distantes e menos similares, degradando a precisão do modelo. A escolha de uma métrica de distância adequada também é fundamental para garantir que as distâncias calculadas refletem as verdadeiras semelhanças entre as instâncias.\n",
    "</p>"
   ]
  },
  {
   "cell_type": "markdown",
   "metadata": {},
   "source": [
    "### Explorar os hiperparâmetros e determinar a melhor combinação"
   ]
  },
  {
   "cell_type": "code",
   "execution_count": null,
   "metadata": {},
   "outputs": [],
   "source": [
    "# Definir os hiperparâmetros\n",
    "parameters = {\n",
    "    'n_neighbors': [2,3, 5, 7,10,20,100],\n",
    "    'weights': ['uniform', 'distance'],\n",
    "\n",
    "}\n",
    "\n",
    "# Criar o modelo k-NN\n",
    "knn = KNeighborsClassifier()\n",
    "\n",
    "# Criar o objeto GridSearchCV\n",
    "grid_search = GridSearchCV(knn, parameters, scoring='f1', cv=5)\n",
    "\n",
    "# Executar a busca em grid para encontrar os melhores hiperparâmetros\n",
    "grid_search.fit(X_tr[:, 3:], y_tr)\n",
    "\n",
    "# Obter os melhores hiperparâmetros encontrados\n",
    "best_params_KNN = grid_search.best_params_\n",
    "best_params_KNN"
   ]
  },
  {
   "cell_type": "markdown",
   "metadata": {},
   "source": [
    "### Treino do modelo k-NN com hiperparâmetros já definidos"
   ]
  },
  {
   "cell_type": "code",
   "execution_count": null,
   "metadata": {},
   "outputs": [],
   "source": [
    "KN_classifier = KNeighborsClassifier(n_neighbors=20,weights=\"distance\")\n",
    "\n",
    "for train_index, test_index in sss.split(X_tr, y_tr):\n",
    "    positive = 0\n",
    "    negative = 0\n",
    "    for i in range(y_tr.shape[0]):\n",
    "        if y_tr[i] == 1:\n",
    "            positive += 1\n",
    "        else:\n",
    "            negative += 1\n",
    "    \n",
    "    X_KN_train, X_KN_test, y_KN_train, y_KN_test =  X_tr[train_index,3:], X_tr[test_index,3:], y_tr[train_index], y_tr[test_index]\n",
    "    \n",
    "    X_KN_train_new = X_KN_train\n",
    "    X_KN_train_new = min_max_escala.fit_transform(X_KN_train_new)\n",
    "    \n",
    "    X_KN_test_new = X_KN_test\n",
    "    X_KN_test_new = min_max_escala.transform(X_KN_test_new)\n",
    "    \n",
    "    KN_classifier.fit(X_KN_train_new, y_KN_train)\n",
    "    y_pred = KN_classifier.predict(X_KN_test_new)"
   ]
  },
  {
   "cell_type": "markdown",
   "metadata": {},
   "source": [
    "### Avaliação do treino do modelo k-NN"
   ]
  },
  {
   "cell_type": "code",
   "execution_count": null,
   "metadata": {},
   "outputs": [],
   "source": [
    "X_new = X_tr[:,3:]\n",
    "X_new = min_max_escala.fit_transform(X_new)\n",
    "KN_classifier.fit(X_new, y_tr)\n",
    "y_tr_predict = KN_classifier.predict(X_new)\n",
    "print('f1 on Train set: ', f1_score(y_tr, y_tr_predict))\n",
    "print('MCC on Train set: ', matthews_corrcoef(y_tr, y_tr_predict))\n",
    "\n",
    "tn, fp, fn, tp = confusion_matrix(y_tr, y_tr_predict).ravel()\n",
    "print(\"tn, fp, tp, fn\", tn, fp, tp, fn)\n",
    "specificity = tn / (tn+fp)\n",
    "print('Specificity on Train set(tn / (tn+fp)): ', specificity)\n",
    "sensitivity = tp / (tp+fn)\n",
    "print('Sensitivity on Train set(tp / (tp+fn)): ', sensitivity)\n",
    "accuracy = (tp+tn) /(tp+tn+fp+fn)\n",
    "print('Accuracy on Train set: ', accuracy)"
   ]
  },
  {
   "cell_type": "markdown",
   "metadata": {},
   "source": [
    "### Teste do modelo k-NN já treinado e respetivas métricas"
   ]
  },
  {
   "cell_type": "code",
   "execution_count": null,
   "metadata": {},
   "outputs": [],
   "source": [
    "X_te_new = X_te[:,3:]\n",
    "\n",
    "X_te_new = min_max_escala.transform(X_te_new)\n",
    "\n",
    "y_KN_pred = KN_classifier.predict(X_te_new)\n",
    "\n",
    "print(\"*************************************\")\n",
    "print('f1 on Test set: ', f1_score(y_te, y_KN_pred))\n",
    "print('MCC on Test set: ', matthews_corrcoef(y_te, y_KN_pred))\n",
    "tn, fp, fn, tp = confusion_matrix(y_te, y_KN_pred).ravel()\n",
    "print(\"tn, fp, tp, fn\", tn, fp, tp, fn)\n",
    "specificity = tn / (tn + fp)\n",
    "print('Specificity on Test set(tn / (tn+fp)): ', specificity)\n",
    "sensitivity = tp / (tp + fn)\n",
    "print('Sensitivity on Test set(tp / (tp+fn)): ', sensitivity)\n",
    "accuracy = (tp + tn) / (tp + tn + fp + fn)\n",
    "print('Accuracy on Test set: ', accuracy)\n",
    "precision=tp/(tp+fp)\n",
    "print(\"Precision on Test set: \", precision)"
   ]
  },
  {
   "cell_type": "markdown",
   "metadata": {},
   "source": [
    "### Confusion Matrix resultante do teste do modelo k-NN"
   ]
  },
  {
   "cell_type": "code",
   "execution_count": null,
   "metadata": {},
   "outputs": [],
   "source": [
    "# Calcula a matriz de confusão\n",
    "confusion = confusion_matrix(y_te, y_KN_pred)\n",
    "\n",
    "# Obtém os valores dos verdadeiros positivos (tp), verdadeiros negativos (tn),\n",
    "# falsos positivos (fp) e falsos negativos (fn)\n",
    "tn, fp, fn, tp = confusion.ravel()\n",
    "\n",
    "# Imprime os valores da matriz de confusão\n",
    "print(\"Confusion Matrix:\")\n",
    "print(confusion)\n",
    "\n",
    "# Plota a matriz de confusão\n",
    "plt.figure(figsize=(8, 6))\n",
    "sns.heatmap(confusion, annot=True, cmap='Greens', fmt='g')\n",
    "plt.xlabel('Predicted')\n",
    "plt.ylabel('Actual')\n",
    "plt.title('Confusion Matrix')\n",
    "plt.show()"
   ]
  },
  {
   "cell_type": "markdown",
   "metadata": {},
   "source": [
    "# Random Forest "
   ]
  },
  {
   "cell_type": "markdown",
   "metadata": {},
   "source": [
    "<p align=\"justify\">\n",
    "Random Forest (RF), é um método de aprendizagem de máquina que opera através da combinação de múltiplas árvores de decisão para melhorar a robustez e a precisão das previsões. Adequado para tanto classificação quanto regressão, este modelo constrói diversas árvores de decisão durante o treinamento e faz as previsões com base na média dos resultados das árvores para regressão ou na maioria dos votos para classificação.\n",
    "</p>\n",
    "\n",
    "<p align=\"justify\">\n",
    "Embora seja altamente eficaz para uma grande variedade de dados, o Random Forest pode enfrentar desafios quando aplicado a conjuntos de dados desbalanceados. Nestas situações, as classes minoritárias podem não ser representadas adequadamente, levando a um modelo tendencioso que favorece as classes maioritárias.\n",
    "</p>\n",
    "\n",
    "<p align=\"justify\">\n",
    "Para mitigar esse problema, as técnicas como ajuste de pesos de classe, oversampling da classe minoritária ou undersampling da classe maioritária podem ser empregadas para equilibrar o dataset antes do treinamento. Adicionalmente, o Random Forest permite ajustes nos seus parâmetros, como o número de árvores (n_estimators) e a profundidade máxima das árvores (max_depth), o que pode ser crucial para evitar overfitting e melhorar o desempenho do modelo em dados complexos.\n",
    "</p>"
   ]
  },
  {
   "cell_type": "markdown",
   "metadata": {},
   "source": [
    "### Explorar os hiperparâmetros e determinar a melhor combinação"
   ]
  },
  {
   "cell_type": "code",
   "execution_count": null,
   "metadata": {},
   "outputs": [],
   "source": [
    "# Definir os parâmetros a ajustar\n",
    "parameters = {\n",
    "    'n_estimators': [100, 500, 1000],\n",
    "    'max_depth': [None, 5, 10],\n",
    "    'min_samples_split': [2, 5, 10]\n",
    "}\n",
    "\n",
    "# Criar o classificador RandomForest\n",
    "RF_classifier = RandomForestClassifier(random_state=42)\n",
    "\n",
    "# Criar o objeto GridSearchCV\n",
    "grid_search = GridSearchCV(RF_classifier, parameters, scoring='f1', cv=5)\n",
    "\n",
    "# Executar o grid search usando os dados de treino (X_tr e y_tr)\n",
    "grid_search.fit(X_tr[:, 3:], y_tr)\n",
    "\n",
    "# Obter os melhores parâmetros\n",
    "best_params_RF = grid_search.best_params_\n",
    "best_params_RF"
   ]
  },
  {
   "cell_type": "markdown",
   "metadata": {},
   "source": [
    " ### Treino do modelo RF com hiperparâmetros já definidos"
   ]
  },
  {
   "cell_type": "code",
   "execution_count": null,
   "metadata": {},
   "outputs": [],
   "source": [
    "#treino\n",
    "RF_classifier = RandomForestClassifier(random_state=42, max_depth=None, min_samples_split=5, n_estimators=1000)\n",
    "\n",
    "for train_index, test_index in sss.split(X_tr, y_tr):\n",
    "    positive = 0\n",
    "    negative = 0\n",
    "    for i in range(y_tr.shape[0]):\n",
    "        if y_tr[i] == 1:\n",
    "            positive += 1\n",
    "        else:\n",
    "            negative += 1\n",
    "    \n",
    "    X_RF_train, X_RF_test, y_RF_train, y_RF_test = X_tr[train_index,3:], X_tr[test_index,3:], y_tr[train_index], y_tr[test_index]\n",
    "    \n",
    "    X_RF_train_new = X_RF_train\n",
    "    X_RF_train_new = min_max_escala.fit_transform(X_RF_train_new)\n",
    "    \n",
    "    X_RF_test_new = X_RF_test\n",
    "    X_RF_test_new = min_max_escala.transform(X_RF_test_new)\n",
    "    \n",
    "    RF_classifier.fit(X_RF_train_new, y_RF_train)\n",
    "    y_pred = RF_classifier.predict(X_RF_test_new)"
   ]
  },
  {
   "cell_type": "markdown",
   "metadata": {},
   "source": [
    "### Avaliação do treino do modelo RF"
   ]
  },
  {
   "cell_type": "code",
   "execution_count": null,
   "metadata": {},
   "outputs": [],
   "source": [
    "X_new = X_tr[:,3:]\n",
    "X_new = min_max_escala.fit_transform(X_new)\n",
    "RF_classifier.fit(X_new, y_tr)\n",
    "y_tr_predict = RF_classifier.predict(X_new)\n",
    "print('f1 on Train set: ', f1_score(y_tr, y_tr_predict))\n",
    "print('MCC on Train set: ', matthews_corrcoef(y_tr, y_tr_predict))\n",
    "\n",
    "tn, fp, fn, tp = confusion_matrix(y_tr, y_tr_predict).ravel()\n",
    "print(\"tn, fp, tp, fn\", tn, fp, tp, fn)\n",
    "specificity = tn / (tn+fp)\n",
    "print('Specificity on Train set(tn / (tn+fp)): ', specificity)\n",
    "sensitivity = tp / (tp+fn)\n",
    "print('Sensitivity on Train set(tp / (tp+fn)): ', sensitivity)\n",
    "accuracy = (tp+tn) /(tp+tn+fp+fn)\n",
    "print('Accuracy on Train set: ', accuracy)"
   ]
  },
  {
   "cell_type": "markdown",
   "metadata": {},
   "source": [
    "### Teste do modelo RF já treinado e respetivas métricas"
   ]
  },
  {
   "cell_type": "code",
   "execution_count": null,
   "metadata": {},
   "outputs": [],
   "source": [
    "X_te_new = X_te[:,3:]\n",
    "x_test_df = pd.DataFrame(X_te_new)\n",
    "X_te_new = min_max_escala.transform(X_te_new)\n",
    "x_test_df = pd.DataFrame(X_te_new)\n",
    "y_RF_pred=RF_classifier.predict(X_te_new)\n",
    "print(\"*************************************\")\n",
    "print('f1 on Test set: ', f1_score(y_te, y_RF_pred))\n",
    "print('MCC on Test set: ', matthews_corrcoef(y_te, y_RF_pred))\n",
    "tn, fp, fn, tp = confusion_matrix(y_te, y_RF_pred).ravel()\n",
    "print(\"tn, fp, tp, fn\", tn, fp, tp, fn)\n",
    "specificity = tn / (tn+fp)\n",
    "print('Specificity on Test set(tn / (tn+fp)): ', specificity)\n",
    "sensitivity = tp / (tp+fn)\n",
    "print('Sensitivity on Test set(tp / (tp+fn)): ', sensitivity)\n",
    "accuracy = (tp+tn) /(tp+tn+fp+fn)\n",
    "print('Accuracy on Test set: ', accuracy)\n",
    "precision=tp/(tp+fp)\n",
    "print(\"Precision on Test set: \", precision)"
   ]
  },
  {
   "cell_type": "markdown",
   "metadata": {},
   "source": [
    "### Confusion Matrix resultante do teste do modelo RF"
   ]
  },
  {
   "cell_type": "code",
   "execution_count": null,
   "metadata": {},
   "outputs": [],
   "source": [
    "# Calcula a matriz de confusão\n",
    "confusion = confusion_matrix(y_te, y_RF_pred)\n",
    "\n",
    "# Obtém os valores dos verdadeiros positivos (tp), verdadeiros negativos (tn),\n",
    "# falsos positivos (fp) e falsos negativos (fn)\n",
    "tn, fp, fn, tp = confusion.ravel()\n",
    "\n",
    "# Imprime os valores da matriz de confusão\n",
    "print(\"Confusion Matrix:\")\n",
    "print(confusion)\n",
    "\n",
    "# Plot da matriz de confusão\n",
    "plt.figure(figsize=(8, 6))\n",
    "sns.heatmap(confusion, annot=True, cmap='Greens', fmt='g')\n",
    "plt.xlabel('Predicted')\n",
    "plt.ylabel('Actual')\n",
    "plt.title('Confusion Matrix')\n",
    "plt.show()"
   ]
  }
 ],
 "metadata": {
  "kernelspec": {
   "display_name": "Python 3 (ipykernel)",
   "language": "python",
   "name": "python3"
  },
  "language_info": {
   "codemirror_mode": {
    "name": "ipython",
    "version": 3
   },
   "file_extension": ".py",
   "mimetype": "text/x-python",
   "name": "python",
   "nbconvert_exporter": "python",
   "pygments_lexer": "ipython3",
   "version": "3.11.2"
  },
  "toc": {
   "base_numbering": 1,
   "nav_menu": {},
   "number_sections": false,
   "sideBar": true,
   "skip_h1_title": false,
   "title_cell": "Table of Contents",
   "title_sidebar": "Contents",
   "toc_cell": false,
   "toc_position": {
    "height": "calc(100% - 180px)",
    "left": "10px",
    "top": "150px",
    "width": "330.667px"
   },
   "toc_section_display": true,
   "toc_window_display": true
  }
 },
 "nbformat": 4,
 "nbformat_minor": 2
}
