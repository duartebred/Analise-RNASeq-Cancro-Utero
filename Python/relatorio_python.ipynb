{
 "cells": [
  {
   "cell_type": "markdown",
   "metadata": {},
   "source": [
    "# Carcinoma do endométrio do corpo uterino\n",
    "Autores: Duarte Velho(pg53841), Joana Lopes(pg53498), Ricardo Oliveira(pg53501)\n",
    "\n",
    "Este trabalho foi desenvolvido no âmbito da UC Extração de Conhecimentos de Dados Biológicos (2023/24), do Mestrado em Bioinformática da Escola de Engenharia da Universidade do Minho, e tem como objetivo a análise de um conjunto de dados de expressão genética relacionados com o Carcinoma Endometrial do Corpo Uterino utilizando python e os seus diversos packages.\n",
    "\n",
    "## 1ª parte\n",
    "A primeira fase deste trabalho será constituída pelas seguintes etapas: - explicação dos dados, sua origem e relevância; - tarefas de preparação e de pré-processamento dos dados; - sumarização dos dados (estatística descritiva, exploração com recurso a gráficos); - análise estatística univariada e análise de expressão diferencial e de enriquecimento.\n",
    "\n",
    "### Instalação e importação de packages\n",
    "\n",
    "Nesta secção são destacados todos os packages utilizados no trabalho, que facilitam a aquisição e análise de dados ao longo do documento, tornando mais eficiente a obtenção e compreensão das informações relevantes.\n",
    "\n"
   ]
  },
  {
   "cell_type": "code",
   "execution_count": 3,
   "metadata": {},
   "outputs": [
    {
     "name": "stderr",
     "output_type": "stream",
     "text": [
      "C:\\Users\\ricar\\AppData\\Local\\Temp\\ipykernel_2080\\539419080.py:1: DeprecationWarning: \n",
      "Pyarrow will become a required dependency of pandas in the next major release of pandas (pandas 3.0),\n",
      "(to allow more performant data types, such as the Arrow string type, and better interoperability with other libraries)\n",
      "but was not found to be installed on your system.\n",
      "If this would cause problems for you,\n",
      "please provide us feedback at https://github.com/pandas-dev/pandas/issues/54466\n",
      "        \n",
      "  import pandas as pd\n"
     ]
    }
   ],
   "source": [
    "import pandas as pd\n",
    "import re\n",
    "import matplotlib as plt"
   ]
  },
  {
   "cell_type": "markdown",
   "metadata": {},
   "source": [
    "### 1. Introdução\n",
    "\n",
    "#### 1.1 Enquadramento\n",
    "\n",
    "Nos dias de hoje, o cancro é uma das principais causas de morte a nível mundial, sendo que, segundo a Organização Mundial da Saúde (OMS), em 2020, foram diagnosticados cerca de 19,3 milhões de novos casos de cancro, que resultaram na morte, de aproximadamente 10 milhões de pessoas [1].\n",
    "O preocupante aumento da incidência do cancro ao longo das últimas décadas, levou ao surgimento de iniciativas, tal como a PanCancer Atlas, que visam encontrar respostas para as grandes e abrangentes questões sobre o cancro, através da análise de tumores caracterizados no conjunto de dados resultantes do projeto de The Cancer Genome Atlas (TCGA).\n",
    "O TCGA é um programa de genómica de referência na área do cancro que, em colaboração com o Instituto Nacional do Cancro (NCI) e o Instituto Nacional de Pesquisa do Genoma Humano (NHGRI) dos Estados Unidos, caracterizou mais de 20 mil cancros primários abrangendo 33 tipos de cancro.\n",
    "Os tipos de cancro selecionados para estudo cumprem requisitos tais como ter um mau prognóstico, ter um impacto geral na saúde pública, disponibilidade de amostras com a qualidade e quantidade desejadas, entre outros.\n",
    "(National Cancer Institute, 2022)\n",
    "\n",
    "O cancro endometrial do corpo uterino, um dos cancros incluídos no TCGA, é o sétimo tumor maligno mais frequente no mundo e o quarto mais comum na mulher sendo a doença ginecológica maligna dominante, tendo provocado em 2011 mais de 8 mil mortes [2,3].\n",
    "De todos os cancros do corpo uterino mais de 83% correspondem a carcinomas do endométrio, enquanto apenas 10% dos diagnósticos são classificados como sarcomas [2].\n",
    "Este tipo de cancro tem ganho maior atenção por parte da comunidade científica, uma vez que se verificou um aumento da sua incidência com a agravante de que a taxa de sobrevivência aos 5 anos é consideravelmente menor, em comparação com o ano de 1975, passando de 88% para cerca de 84%, em 2006, indicando um aumento na mortalidade [3].\n",
    "A taxa de sobrevivência está fortemente correlacionada com o estádio da doença aquando do diagnóstico, sendo que para pacientes no estádio inicial se considera curável atingindo cerca de 96% de sobrevivência.\n",
    "No entanto, para fases mais avançadas e de alto grau, é considerado letal reduzindo drasticamente a taxa de sobrevivência para 17%.\n",
    "\n",
    "#### 1.2. Objetivo\n",
    "\n",
    "Com base na problemática apresentada, este trabalho tem como objetivo analisar o perfil transcriptómico de células endometeriais do corpo uterino de pacientes diagnosticados com cancro para determinadas condições descritas nos metadados, de modo a realizar a análise da expressão diferencial com o intuito de compreender qual o efeito do fator no perfil transcriptómico das células e como esse perfil se traduz na gravidade da doença observada.\n",
    "Os dados utilizados neste trabalho estão disponíveis no [GDC DataPortal](https://shorturl.at/fmpJ5).\n",
    "\n",
    "\n",
    "### 2. Extração dos dados de transcriptómica e respetivos metadados da base de dados\n",
    "\n",
    "#### 2.1. Obtenção dos dados\n",
    "\n",
    "Com o objetivo de analisar os dados de transcriptómica referente ao carcinoma endometrial do corpo uterino, procedemos à extração da informação que se encontra presente no website cBioPortal, onde se encontram disponibilizados, de forma gratuita, uma grande diversidade de alterações genómicas de vários tipos de cancro, incluindo o cancro selecionado para estudo.\n",
    "Como no trabalho anterior já procedemos ao download dos dados de expressão genética e dos seus respetivos metadados, apenas se realizou a leitura dos respetivos dados utilizando o package pandas"
   ]
  },
  {
   "cell_type": "code",
   "execution_count": 13,
   "metadata": {},
   "outputs": [],
   "source": [
    "# atenção demora a correr (no meu pc demorou 6min a ler os ficheiros)\n",
    "gene_exp = pd.read_excel(io=\"../Data/expressao_genetica.xlsx\", index_col=0)\n",
    "genes_meta = pd.read_excel(io=\"../Data/genes_metadados.xlsx\", index_col=0)\n",
    "amostras_meta = pd.read_excel(io=\"../Data/amostras_metadados.xlsx\", index_col=0)"
   ]
  },
  {
   "cell_type": "code",
   "execution_count": 54,
   "metadata": {},
   "outputs": [
    {
     "name": "stdout",
     "output_type": "stream",
     "text": [
      "Classe dos dados de expressão:<class 'pandas.core.frame.DataFrame'>\n",
      "Classe dos dados de expressão:<class 'pandas.core.frame.DataFrame'>\n",
      "Classe dos dados de expressão:<class 'pandas.core.frame.DataFrame'>\n",
      "\n",
      "O dataframe da expressão genética tem 60660 linhas e 589 colunas\n",
      "O dataframe dos genes possui 60660 linhas e 10 colunas\n",
      "O dataframe das amostras tem 589 linhas e 78 colunas\n",
      "\n",
      "Nomes das 5 primeiras colunas do dataframe de expressão genética: ['TCGA-FI-A3PX-01A-11R-A22K-07' 'TCGA-BG-A221-01A-21R-A157-07'\n",
      " 'TCGA-EY-A1GK-01A-11R-A13S-07' 'TCGA-BG-A2AE-01A-11R-A16F-07'\n",
      " 'TCGA-AX-A1CE-01A-11R-A137-07']\n",
      "Nomes das 5 primeiras colunas do dataframe dos genes: ['source' 'type' 'score' 'phase' 'gene_id']\n",
      "Nomes das 5 primeiras colunas do dataframe das amostras: ['barcode' 'patient' 'sample' 'shortLetterCode' 'definition']\n"
     ]
    }
   ],
   "source": [
    "print(f\"Classe dos dados de expressão:{type(gene_exp)}\")\n",
    "print(f\"Classe dos dados de expressão:{type(genes_meta)}\")\n",
    "print(f\"Classe dos dados de expressão:{type(amostras_meta)}\")\n",
    "print(f\"\\nO dataframe da expressão genética tem {gene_exp.shape[0]} linhas e {gene_exp.shape[1]} colunas\")\n",
    "print(f\"O dataframe dos genes possui {genes_meta.shape[0]} linhas e {genes_meta.shape[1]} colunas\")\n",
    "print(f\"O dataframe das amostras tem {amostras_meta.shape[0]} linhas e {amostras_meta.shape[1]} colunas\")\n",
    "print(f\"\\nNomes das 5 primeiras colunas do dataframe de expressão genética: {gene_exp.columns.values[0:5]}\")\n",
    "print(f\"Nomes das 5 primeiras colunas do dataframe dos genes: {genes_meta.columns.values[0:5]}\")\n",
    "print(f\"Nomes das 5 primeiras colunas do dataframe das amostras: {amostras_meta.columns.values[0:5]}\")"
   ]
  },
  {
   "cell_type": "markdown",
   "metadata": {},
   "source": [
    "Através da análise exploratória inicial dos dados verificou-se que os dados de expressão genénitca, os dados dos genes e das amostras estão no formato de dataframe. O dataframe da expressão genética é constituído por 60660 linhas que correspondem ao genes para o qual se estudou a sua expressão genética e 589 colunas que representam as amostras análisadas no estudo. Para cada gene existem 10 colunas de metados associados que acrescentam informação adicional sobre os genes, incluindo o gene_id (código Ensembl), tal como a sua fonte, o nome do gene, entre outros atributos, que podem ser accessados e explorados.\n",
    "Em relação às amostras, existem 78 colunas de metadados que possibilitam a caracterização das 589 amostras utilizadas neste estudo possibilitando a análise do impacto que as diversas características possuem no estádio ou na gravidade da doença com base nos dados da expressão genética de cada amostra.\n",
    "\n",
    "Por diversas razões várias vezes os metadados associadas às amostras possuem elevada quantidade de valores omissos, o que pode levar a uma redução considerável das amsotras utilizadas em estudo caso a variável que se pretende análisar seja uma das que apresenta elevada percentagem de valores omissos. Para evitar tal acontecimento, primeiramente procedeu-se a uma filtragem do datafram \"amostras_meta\" com o inuito de apenas preservar as variavíes que possuem menos de 10% de valores omissos"
   ]
  },
  {
   "cell_type": "code",
   "execution_count": 104,
   "metadata": {},
   "outputs": [
    {
     "name": "stdout",
     "output_type": "stream",
     "text": [
      "Dimensões do DataFrame filtrado: (589, 46)\n"
     ]
    }
   ],
   "source": [
    "# filtrar as colunas que são objetos\n",
    "data_types = amostras_meta.dtypes\n",
    "string_cols = data_types[data_types == 'object'].index\n",
    "amostras_meta_filtered = amostras_meta[string_cols]\n",
    "\n",
    "\n",
    "# Identificar colunas com mais de 60 contagens de \"not reported\" \n",
    "rm_not_reported = amostras_meta_filtered.apply(lambda x: x.str.lower().str.count(\"not reported\").sum() > 60)\n",
    "rm_not_reported = rm_not_reported.index[rm_not_reported].tolist()\n",
    "\n",
    "\n",
    "# Identificar colunas com mais de 60 contagens de \"unkown\" \n",
    "rm_unkown = amostras_meta_filtered.apply(lambda x: x.str.lower().str.count(\"unknown\").sum() > 60)\n",
    "rm_unkown = rm_unkown.index[rm_unkown].tolist()\n",
    "\n",
    "\n",
    "# Identificar colunas com mais de 60 valores NA\n",
    "rm_nas = amostras_meta.isna().sum() > 60\n",
    "rm_nas = rm_nas.index[rm_nas].tolist()\n",
    "\n",
    "\n",
    "# Remover colunas identificadas\n",
    "amostras_meta_reduzido = amostras_meta.drop(columns=rm_not_reported + rm_unkown + rm_nas)\n",
    "\n",
    "\n",
    "# Obter dimensões do DataFrame reduzido\n",
    "dimensao = amostras_meta_reduzido.shape\n",
    "print(f\"Dimensões do DataFrame filtrado: {dimensao}\")\n"
   ]
  },
  {
   "cell_type": "markdown",
   "metadata": {},
   "source": [
    "Com esta filtragem o número de colunas passou de 78 para 46 garantindo assim que as características que possam ser utilizadas para as análises posteriores abrangem a maioria das amostras garantindo maior confiabilidade na análise realizada.\n",
    "\n",
    "### 3. Análise Descritiva e Exploratória\n",
    "Para o nosso estudo, de entre as colunas de metadados reduzida, selecionou-se 4 variáveis de caraterísticas distintas, nomeadamente as colunas \"vital_status\", \"primary_diagnosis\", \"age_at_index\" e \"figo_stage\" para se proceder a uma análise descritiva e exploratória das amostras."
   ]
  },
  {
   "cell_type": "code",
   "execution_count": 106,
   "metadata": {},
   "outputs": [
    {
     "data": {
      "text/html": [
       "<div>\n",
       "<style scoped>\n",
       "    .dataframe tbody tr th:only-of-type {\n",
       "        vertical-align: middle;\n",
       "    }\n",
       "\n",
       "    .dataframe tbody tr th {\n",
       "        vertical-align: top;\n",
       "    }\n",
       "\n",
       "    .dataframe thead th {\n",
       "        text-align: right;\n",
       "    }\n",
       "</style>\n",
       "<table border=\"1\" class=\"dataframe\">\n",
       "  <thead>\n",
       "    <tr style=\"text-align: right;\">\n",
       "      <th></th>\n",
       "      <th>vital_status</th>\n",
       "      <th>primary_diagnosis</th>\n",
       "      <th>age_at_index</th>\n",
       "      <th>figo_stage</th>\n",
       "    </tr>\n",
       "    <tr>\n",
       "      <th>row.names(amostras_metadados)</th>\n",
       "      <th></th>\n",
       "      <th></th>\n",
       "      <th></th>\n",
       "      <th></th>\n",
       "    </tr>\n",
       "  </thead>\n",
       "  <tbody>\n",
       "    <tr>\n",
       "      <th>TCGA-FI-A3PX-01A-11R-A22K-07</th>\n",
       "      <td>Alive</td>\n",
       "      <td>Serous cystadenocarcinoma, NOS</td>\n",
       "      <td>57.0</td>\n",
       "      <td>Stage IIIC2</td>\n",
       "    </tr>\n",
       "    <tr>\n",
       "      <th>TCGA-BG-A221-01A-21R-A157-07</th>\n",
       "      <td>Alive</td>\n",
       "      <td>Endometrioid adenocarcinoma, NOS</td>\n",
       "      <td>84.0</td>\n",
       "      <td>Stage IB</td>\n",
       "    </tr>\n",
       "    <tr>\n",
       "      <th>TCGA-EY-A1GK-01A-11R-A13S-07</th>\n",
       "      <td>Alive</td>\n",
       "      <td>Endometrioid adenocarcinoma, NOS</td>\n",
       "      <td>74.0</td>\n",
       "      <td>Stage IB</td>\n",
       "    </tr>\n",
       "    <tr>\n",
       "      <th>TCGA-BG-A2AE-01A-11R-A16F-07</th>\n",
       "      <td>Alive</td>\n",
       "      <td>Serous cystadenocarcinoma, NOS</td>\n",
       "      <td>57.0</td>\n",
       "      <td>Stage IB</td>\n",
       "    </tr>\n",
       "    <tr>\n",
       "      <th>TCGA-AX-A1CE-01A-11R-A137-07</th>\n",
       "      <td>Alive</td>\n",
       "      <td>Endometrioid adenocarcinoma, NOS</td>\n",
       "      <td>60.0</td>\n",
       "      <td>Stage IB</td>\n",
       "    </tr>\n",
       "    <tr>\n",
       "      <th>...</th>\n",
       "      <td>...</td>\n",
       "      <td>...</td>\n",
       "      <td>...</td>\n",
       "      <td>...</td>\n",
       "    </tr>\n",
       "    <tr>\n",
       "      <th>TCGA-AJ-A3NF-01A-11R-A22K-07</th>\n",
       "      <td>Alive</td>\n",
       "      <td>Serous cystadenocarcinoma, NOS</td>\n",
       "      <td>60.0</td>\n",
       "      <td>Stage IIIC</td>\n",
       "    </tr>\n",
       "    <tr>\n",
       "      <th>TCGA-BK-A0C9-01A-11R-A00V-07</th>\n",
       "      <td>Alive</td>\n",
       "      <td>Endometrioid adenocarcinoma, NOS</td>\n",
       "      <td>57.0</td>\n",
       "      <td>Stage IB</td>\n",
       "    </tr>\n",
       "    <tr>\n",
       "      <th>TCGA-AJ-A5DW-01A-11R-A27V-07</th>\n",
       "      <td>Alive</td>\n",
       "      <td>Endometrioid adenocarcinoma, NOS</td>\n",
       "      <td>56.0</td>\n",
       "      <td>Stage IA</td>\n",
       "    </tr>\n",
       "    <tr>\n",
       "      <th>TCGA-AP-A05J-01A-11R-A00V-07</th>\n",
       "      <td>Alive</td>\n",
       "      <td>Serous cystadenocarcinoma, NOS</td>\n",
       "      <td>66.0</td>\n",
       "      <td>Stage II</td>\n",
       "    </tr>\n",
       "    <tr>\n",
       "      <th>TCGA-D1-A103-01A-11R-A10J-07</th>\n",
       "      <td>Alive</td>\n",
       "      <td>Endometrioid adenocarcinoma, NOS</td>\n",
       "      <td>87.0</td>\n",
       "      <td>Stage IB</td>\n",
       "    </tr>\n",
       "  </tbody>\n",
       "</table>\n",
       "<p>589 rows × 4 columns</p>\n",
       "</div>"
      ],
      "text/plain": [
       "                              vital_status                 primary_diagnosis  \\\n",
       "row.names(amostras_metadados)                                                  \n",
       "TCGA-FI-A3PX-01A-11R-A22K-07         Alive    Serous cystadenocarcinoma, NOS   \n",
       "TCGA-BG-A221-01A-21R-A157-07         Alive  Endometrioid adenocarcinoma, NOS   \n",
       "TCGA-EY-A1GK-01A-11R-A13S-07         Alive  Endometrioid adenocarcinoma, NOS   \n",
       "TCGA-BG-A2AE-01A-11R-A16F-07         Alive    Serous cystadenocarcinoma, NOS   \n",
       "TCGA-AX-A1CE-01A-11R-A137-07         Alive  Endometrioid adenocarcinoma, NOS   \n",
       "...                                    ...                               ...   \n",
       "TCGA-AJ-A3NF-01A-11R-A22K-07         Alive    Serous cystadenocarcinoma, NOS   \n",
       "TCGA-BK-A0C9-01A-11R-A00V-07         Alive  Endometrioid adenocarcinoma, NOS   \n",
       "TCGA-AJ-A5DW-01A-11R-A27V-07         Alive  Endometrioid adenocarcinoma, NOS   \n",
       "TCGA-AP-A05J-01A-11R-A00V-07         Alive    Serous cystadenocarcinoma, NOS   \n",
       "TCGA-D1-A103-01A-11R-A10J-07         Alive  Endometrioid adenocarcinoma, NOS   \n",
       "\n",
       "                               age_at_index   figo_stage  \n",
       "row.names(amostras_metadados)                             \n",
       "TCGA-FI-A3PX-01A-11R-A22K-07           57.0  Stage IIIC2  \n",
       "TCGA-BG-A221-01A-21R-A157-07           84.0     Stage IB  \n",
       "TCGA-EY-A1GK-01A-11R-A13S-07           74.0     Stage IB  \n",
       "TCGA-BG-A2AE-01A-11R-A16F-07           57.0     Stage IB  \n",
       "TCGA-AX-A1CE-01A-11R-A137-07           60.0     Stage IB  \n",
       "...                                     ...          ...  \n",
       "TCGA-AJ-A3NF-01A-11R-A22K-07           60.0   Stage IIIC  \n",
       "TCGA-BK-A0C9-01A-11R-A00V-07           57.0     Stage IB  \n",
       "TCGA-AJ-A5DW-01A-11R-A27V-07           56.0     Stage IA  \n",
       "TCGA-AP-A05J-01A-11R-A00V-07           66.0     Stage II  \n",
       "TCGA-D1-A103-01A-11R-A10J-07           87.0     Stage IB  \n",
       "\n",
       "[589 rows x 4 columns]"
      ]
     },
     "execution_count": 106,
     "metadata": {},
     "output_type": "execute_result"
    }
   ],
   "source": [
    "meta_amostras = amostras_meta_reduzido[[\"vital_status\", \"primary_diagnosis\", \"age_at_index\",\"figo_stage\"]]\n",
    "\n"
   ]
  }
 ],
 "metadata": {
  "kernelspec": {
   "display_name": "Python 3",
   "language": "python",
   "name": "python3"
  },
  "language_info": {
   "codemirror_mode": {
    "name": "ipython",
    "version": 3
   },
   "file_extension": ".py",
   "mimetype": "text/x-python",
   "name": "python",
   "nbconvert_exporter": "python",
   "pygments_lexer": "ipython3",
   "version": "3.12.3"
  }
 },
 "nbformat": 4,
 "nbformat_minor": 2
}
